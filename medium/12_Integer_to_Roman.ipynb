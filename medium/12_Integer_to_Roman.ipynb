{
 "cells": [
  {
   "cell_type": "markdown",
   "id": "df45b4c6-f95d-43c7-bbec-532377443af5",
   "metadata": {},
   "source": [
    "# 12. Integer to Roman\n",
    "\n",
    "URL: https://leetcode.com/problems/integer-to-roman/\n",
    "\n",
    "Roman numerals are represented by seven different symbols: I, V, X, L, C, D and M.\n",
    "\n",
    "| Symbol | Value |\n",
    "| --- | --- |\n",
    "| I | 1 |\n",
    "| V | 5 |\n",
    "| X | 10 |\n",
    "| L | 50 |\n",
    "| C | 100 |\n",
    "| D | 500 |\n",
    "| M | 1000 |\n",
    "\n",
    "For example, 2 is written as II in Roman numeral, just two one\"s added together. 12 is written as XII, which is simply X + II. The number 27 is written as XXVII, which is XX + V + II.\n",
    "\n",
    "Roman numerals are usually written largest to smallest from left to right. However, the numeral for four is not IIII. Instead, the number four is written as IV. Because the one is before the five we subtract it making four. The same principle applies to the number nine, which is written as IX. There are six instances where subtraction is used:\n",
    "\n",
    "- I can be placed before V (5) and X (10) to make 4 and 9. \n",
    "- X can be placed before L (50) and C (100) to make 40 and 90. \n",
    "- C can be placed before D (500) and M (1000) to make 400 and 900.\n",
    "\n",
    "Example 1:\n",
    "<br>\n",
    "Input: num = 3\n",
    "<br>\n",
    "Output: \"III\"\n",
    "<br>\n",
    "Explanation: 3 is represented as 3 ones.\n",
    "\n",
    "Example 2:\n",
    "<br>\n",
    "Input: num = 58\n",
    "<br>\n",
    "Output: \"LVIII\"\n",
    "<br>\n",
    "Explanation: L = 50, V = 5, III = 3.\n",
    "\n",
    "Example 3:\n",
    "<br>\n",
    "Input: num = 1994\n",
    "<br>\n",
    "Output: \"MCMXCIV\"\n",
    "<br>\n",
    "Explanation: M = 1000, CM = 900, XC = 90 and IV = 4."
   ]
  },
  {
   "cell_type": "raw",
   "id": "85115507-5351-47de-8c1e-7bb56675d881",
   "metadata": {},
   "source": [
    "class Solution:\n",
    "    def intToRoman(self, num: int) -> str:\n",
    "        \n",
    "value_tuple = (1, 4, 5, 9, 10, 40, 50, 90, 100, 400, 500, 900, 1000)"
   ]
  },
  {
   "cell_type": "markdown",
   "id": "403d998c-efe9-46aa-af8a-8d5c335df796",
   "metadata": {},
   "source": [
    "Constraints:\n",
    "\n",
    "- 1 <= num <= 3999"
   ]
  },
  {
   "cell_type": "code",
   "execution_count": 20,
   "id": "52d2a68a-8836-45ef-9c44-fec3a77b2471",
   "metadata": {},
   "outputs": [],
   "source": [
    "class Solution:\n",
    "    def intToRoman(self, num):\n",
    "        output = \"\"\n",
    "        value_tuple = (1000, 900, 500, 400, 100, 90, 50, 40, 10, 9, 5, 4, 1)\n",
    "        value_symbol_dict = {\n",
    "            1: \"I\",\n",
    "            4: \"IV\",\n",
    "            5: \"V\",\n",
    "            9: \"IX\",\n",
    "            10: \"X\",\n",
    "            40: \"XL\",\n",
    "            50: \"L\",\n",
    "            90: \"XC\",\n",
    "            100: \"C\",\n",
    "            400: \"CD\",\n",
    "            500: \"D\",\n",
    "            900: \"CM\",\n",
    "            1000: \"M\",\n",
    "        }\n",
    "        for value in value_tuple:\n",
    "            quotient = num // value\n",
    "            output += quotient * value_symbol_dict[value]\n",
    "            num = num - quotient * value\n",
    "        return output"
   ]
  },
  {
   "cell_type": "markdown",
   "id": "db96c754-e6f0-42e1-8308-e5d8e3266caf",
   "metadata": {},
   "source": [
    "Runtime: 134 ms, faster than 5.05% of Python3 online submissions for Integer to Roman.\n",
    "\n",
    "Memory Usage: 13.9 MB, less than 96.02% of Python3 online submissions for Integer to Roman."
   ]
  },
  {
   "cell_type": "code",
   "execution_count": 21,
   "id": "c3b95315-84b6-412b-baae-668063d99f2a",
   "metadata": {},
   "outputs": [
    {
     "data": {
      "text/plain": [
       "'MCMXCIV'"
      ]
     },
     "execution_count": 21,
     "metadata": {},
     "output_type": "execute_result"
    }
   ],
   "source": [
    "num = 1994\n",
    "Solution.intToRoman(Solution, num)"
   ]
  }
 ],
 "metadata": {
  "kernelspec": {
   "display_name": "Python 3 (ipykernel)",
   "language": "python",
   "name": "python3"
  },
  "language_info": {
   "codemirror_mode": {
    "name": "ipython",
    "version": 3
   },
   "file_extension": ".py",
   "mimetype": "text/x-python",
   "name": "python",
   "nbconvert_exporter": "python",
   "pygments_lexer": "ipython3",
   "version": "3.8.12"
  }
 },
 "nbformat": 4,
 "nbformat_minor": 5
}
