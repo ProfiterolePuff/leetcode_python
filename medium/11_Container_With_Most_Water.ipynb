{
 "cells": [
  {
   "cell_type": "markdown",
   "id": "05c42a98",
   "metadata": {},
   "source": [
    "# 11. Container With Most Water\n",
    "\n",
    "URL: https://leetcode.com/problems/container-with-most-water/\n",
    "\n",
    "You are given an integer array height of length n. There are n vertical lines drawn such that the two endpoints of the ith line are (i, 0) and (i, height[i]).\n",
    "\n",
    "Find two lines that together with the x-axis form a container, such that the container contains the most water.\n",
    "\n",
    "Return the maximum amount of water a container can store.\n",
    "\n",
    "Notice that you may not slant the container.\n",
    "\n",
    "Example 1:\n",
    "<br>\n",
    "height = [1,8,6,2,5,4,8,3,7]\n",
    "<br>\n",
    "Output: 49\n",
    "<br>\n",
    "Explanation: The above vertical lines are represented by array [1,8,6,2,5,4,8,3,7]. In this case, the max area of water (blue section) the container can contain is 49."
   ]
  },
  {
   "cell_type": "raw",
   "id": "b31e187e-77bf-4ed9-9048-73419232b5d0",
   "metadata": {},
   "source": [
    "class Solution:\n",
    "    def maxArea(self, height: List[int]) -> int:"
   ]
  },
  {
   "cell_type": "markdown",
   "id": "76150690-9e93-4180-87a2-cf204224c5d3",
   "metadata": {},
   "source": [
    "Constraints:\n",
    "\n",
    "- n == height.length\n",
    "\n",
    "- $2 <= n <= 10^5$\n",
    "\n",
    "- $0 <= height[i] <= 10^4$"
   ]
  },
  {
   "cell_type": "code",
   "execution_count": 16,
   "id": "525fb407",
   "metadata": {},
   "outputs": [],
   "source": [
    "class Solution:\n",
    "    def maxArea(self, height) -> int:\n",
    "        max_area = 0\n",
    "        lef_ind = 0\n",
    "        rig_ind = len(height) - 1\n",
    "        \n",
    "        while lef_ind < rig_ind:\n",
    "            \n",
    "            max_area = max(max_area, min(height[lef_ind], height[rig_ind]) * (rig_ind - lef_ind))\n",
    "            \n",
    "            if height[lef_ind] <= height[rig_ind]:\n",
    "                lef_ind += 1\n",
    "            else:\n",
    "                rig_ind -= 1\n",
    "                \n",
    "        return max_area"
   ]
  },
  {
   "cell_type": "code",
   "execution_count": 17,
   "id": "7c0d2a14-2c68-4325-96c3-d6fd97630f91",
   "metadata": {},
   "outputs": [
    {
     "data": {
      "text/plain": [
       "49"
      ]
     },
     "execution_count": 17,
     "metadata": {},
     "output_type": "execute_result"
    }
   ],
   "source": [
    "Solution.maxArea(Solution, height = [1,8,6,2,5,4,8,3,7])"
   ]
  },
  {
   "cell_type": "code",
   "execution_count": null,
   "id": "ec860591",
   "metadata": {},
   "outputs": [],
   "source": []
  }
 ],
 "metadata": {
  "kernelspec": {
   "display_name": "Python 3 (ipykernel)",
   "language": "python",
   "name": "python3"
  },
  "language_info": {
   "codemirror_mode": {
    "name": "ipython",
    "version": 3
   },
   "file_extension": ".py",
   "mimetype": "text/x-python",
   "name": "python",
   "nbconvert_exporter": "python",
   "pygments_lexer": "ipython3",
   "version": "3.9.12"
  }
 },
 "nbformat": 4,
 "nbformat_minor": 5
}
