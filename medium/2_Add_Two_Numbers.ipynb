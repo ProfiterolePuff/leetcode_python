{
 "cells": [
  {
   "cell_type": "markdown",
   "id": "05c42a98",
   "metadata": {},
   "source": [
    "# 2. Add Two Numbers\n",
    "\n",
    "URL: https://leetcode.com/problems/add-two-numbers/\n",
    "\n",
    "You are given two non-empty linked lists representing two non-negative integers. The digits are stored in reverse order, and each of their nodes contains a single digit. Add the two numbers and return the sum as a linked list.\n",
    "\n",
    "You may assume the two numbers do not contain any leading zero, except the number 0 itself.\n",
    "\n",
    "Example 1:\n",
    "<br>\n",
    "Input: l1 = [2,4,3], l2 = [5,6,4]\n",
    "<br>\n",
    "Output: [7,0,8]\n",
    "<br>\n",
    "Explanation: 342 + 465 = 807.\n",
    "\n",
    "Example 2:\n",
    "<br>\n",
    "Input: l1 = [0], l2 = [0]\n",
    "<br>\n",
    "Output: [0]\n",
    "\n",
    "Example 3:\n",
    "<br>\n",
    "Input: l1 = [9,9,9,9,9,9,9], l2 = [9,9,9,9]\n",
    "<br>\n",
    "Output: [8,9,9,9,0,0,0,1]"
   ]
  },
  {
   "cell_type": "raw",
   "id": "b31e187e-77bf-4ed9-9048-73419232b5d0",
   "metadata": {},
   "source": [
    "# Definition for singly-linked list.\n",
    "# class ListNode:\n",
    "#     def __init__(self, val=0, next=None):\n",
    "#         self.val = val\n",
    "#         self.next = next\n",
    "class Solution:\n",
    "    def addTwoNumbers(self, l1: Optional[ListNode], l2: Optional[ListNode]) -> Optional[ListNode]:\n",
    "        "
   ]
  },
  {
   "cell_type": "markdown",
   "id": "76150690-9e93-4180-87a2-cf204224c5d3",
   "metadata": {},
   "source": [
    "Constraints:\n",
    "\n",
    "- The number of nodes in each linked list is in the range [1, 100].\n",
    "\n",
    "- 0 <= Node.val <= 9\n",
    "\n",
    "- It is guaranteed that the list represents a number that does not have leading zeros."
   ]
  },
  {
   "cell_type": "code",
   "execution_count": 1,
   "id": "34a2401f-0312-4af7-84eb-5e721b2625fe",
   "metadata": {},
   "outputs": [],
   "source": [
    "class ListNode:\n",
    "    def __init__(self, val=0, next=None):\n",
    "        self.val = val\n",
    "        self.next = next\n",
    "\n",
    "def construct_single_linked_list(py_list):\n",
    "    \"\"\"Get the single linked list with python list\"\"\"\n",
    "    \n",
    "    result_head = ListNode(py_list[0])\n",
    "    \n",
    "    previous_node = result_head\n",
    "    \n",
    "    for element in py_list[1:]:\n",
    "        current_node = ListNode(element)\n",
    "        previous_node.next = current_node\n",
    "        previous_node = current_node\n",
    "        \n",
    "    return result_head\n",
    "\n",
    "def print_all_elements_in_sl(sl):\n",
    "    while sl.next != None:\n",
    "        print(sl.val, end =\",\")\n",
    "        sl = sl.next\n",
    "    print(sl.val)"
   ]
  },
  {
   "cell_type": "code",
   "execution_count": 2,
   "id": "c7e0c7aa",
   "metadata": {},
   "outputs": [],
   "source": [
    "# This Approach uses singly-linked list.\n",
    "\n",
    "class Solution:\n",
    "    def addTwoNumbers(self, l1, l2):\n",
    "        \n",
    "        carry_over = 0\n",
    "        current_val = l1.val + l2.val\n",
    "        if current_val >= 10:\n",
    "            current_val-= 10\n",
    "            carry_over = 1 \n",
    "        \n",
    "        result_head = ListNode(current_val)\n",
    "        current_node_1 = l1.next\n",
    "        current_node_2 = l2.next\n",
    "        \n",
    "        current_result_node = result_head    \n",
    "        while current_node_1 != None and current_node_2 != None:\n",
    "            \n",
    "            current_val = current_node_1.val + current_node_2.val + carry_over\n",
    "            \n",
    "            if current_val >= 10:\n",
    "                current_val-= 10\n",
    "                carry_over = 1 \n",
    "            else:\n",
    "                carry_over = 0\n",
    "\n",
    "            current_result_node.next = ListNode(current_val)\n",
    "            \n",
    "            current_result_node = current_result_node.next\n",
    "            current_node_1 = current_node_1.next\n",
    "            current_node_2 = current_node_2.next\n",
    " \n",
    "        if current_node_1 == None and current_node_2 != None:\n",
    "            \n",
    "            while carry_over and current_node_2 != None:\n",
    "                # calculate remaining elements from list2 and carry_over\n",
    "                current_val = current_node_2.val + 1\n",
    "                if current_val >= 10:\n",
    "                    current_val-= 10\n",
    "                    carry_over = 1 \n",
    "                else:\n",
    "                    carry_over = 0\n",
    "                current_result_node.next = ListNode(current_val)\n",
    "                current_result_node = current_result_node.next\n",
    "                current_node_2 = current_node_2.next    \n",
    "            if current_node_2 != None: \n",
    "                # appeend remaining elements from list2 by changing the pointer\n",
    "                current_node_2.val += carry_over\n",
    "                carry_over = 0\n",
    "                current_result_node.next = current_node_2\n",
    "\n",
    "        elif current_node_2 == None and current_node_1 != None:\n",
    "            # calculate remaining elements from list1 and carry_over\n",
    "            while carry_over and current_node_1 != None:\n",
    "                current_val = current_node_1.val + 1\n",
    "                if current_val >= 10:\n",
    "                    current_val-= 10\n",
    "                    carry_over = 1 \n",
    "                else:\n",
    "                    carry_over = 0\n",
    "                current_result_node.next = ListNode(current_val)\n",
    "                current_result_node = current_result_node.next\n",
    "                current_node_1 = current_node_1.next\n",
    "                \n",
    "            if current_node_1 != None: \n",
    "                # appeend remaining elements from list1 by changing the pointer\n",
    "                current_node_1.val += carry_over\n",
    "                carry_over = 0\n",
    "                current_result_node.next = current_node_1\n",
    "            \n",
    "        if carry_over:\n",
    "            current_result_node.next = ListNode(1)\n",
    "            \n",
    "        return result_head\n"
   ]
  },
  {
   "cell_type": "code",
   "execution_count": 3,
   "id": "bd6b0ca7",
   "metadata": {},
   "outputs": [
    {
     "name": "stdout",
     "output_type": "stream",
     "text": [
      "9,9,9,9,9,9,9\n",
      "\n",
      "9,9,9,9\n"
     ]
    }
   ],
   "source": [
    "# Create singly list object\n",
    "\n",
    "list1 = [9,9,9,9,9,9,9]\n",
    "list2 = [9,9,9,9]\n",
    "\n",
    "sl1_head = construct_single_linked_list(list1)\n",
    "sl2_head = construct_single_linked_list(list2)\n",
    "\n",
    "print_all_elements_in_sl(sl1_head)\n",
    "print()\n",
    "print_all_elements_in_sl(sl2_head)"
   ]
  },
  {
   "cell_type": "code",
   "execution_count": 4,
   "id": "63c4e4fd",
   "metadata": {},
   "outputs": [
    {
     "name": "stdout",
     "output_type": "stream",
     "text": [
      "8,9,9,9,0,0,0,1\n"
     ]
    }
   ],
   "source": [
    "r = Solution.addTwoNumbers(Solution, l1 = sl1_head, l2 = sl2_head)\n",
    "\n",
    "print_all_elements_in_sl(r)"
   ]
  }
 ],
 "metadata": {
  "kernelspec": {
   "display_name": "Python 3 (ipykernel)",
   "language": "python",
   "name": "python3"
  },
  "language_info": {
   "codemirror_mode": {
    "name": "ipython",
    "version": 3
   },
   "file_extension": ".py",
   "mimetype": "text/x-python",
   "name": "python",
   "nbconvert_exporter": "python",
   "pygments_lexer": "ipython3",
   "version": "3.9.12"
  }
 },
 "nbformat": 4,
 "nbformat_minor": 5
}
