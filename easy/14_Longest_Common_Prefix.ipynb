{
 "cells": [
  {
   "cell_type": "markdown",
   "id": "38a757c1",
   "metadata": {},
   "source": [
    "# 14. Longest Common Prefix\n",
    "\n",
    "URL: https://leetcode.com/problems/longest-common-prefix/\n",
    "\n",
    "Write a function to find the longest common prefix string amongst an array of strings.\n",
    "\n",
    "If there is no common prefix, return an empty string \"\".\n",
    "\n",
    "Example 1:\n",
    "<br>\n",
    "Input: strs = [\"flower\",\"flow\",\"flight\"]\n",
    "<br>\n",
    "Output: \"fl\"\n",
    "\n",
    "Example 2:\n",
    "<br>\n",
    "Input: strs = [\"dog\",\"racecar\",\"car\"]\n",
    "<br>\n",
    "Output: \"\"\n",
    "<br>\n",
    "Explanation: There is no common prefix among the input strings."
   ]
  },
  {
   "cell_type": "raw",
   "id": "e5b8ae3b",
   "metadata": {},
   "source": [
    "class Solution:\n",
    "    def longestCommonPrefix(self, strs: List[str]) -> str:\n",
    "        "
   ]
  },
  {
   "cell_type": "markdown",
   "id": "69c31cb8",
   "metadata": {},
   "source": [
    "Constraints:\n",
    "\n",
    "- 1 <= strs.length <= 200\n",
    "- 0 <= strs[i].length <= 200\n",
    "- strs[i] consists of only lower-case English letters."
   ]
  },
  {
   "cell_type": "code",
   "execution_count": 21,
   "id": "1f91c2be",
   "metadata": {},
   "outputs": [],
   "source": [
    "class Solution:\n",
    "    def longestCommonPrefix(self, strs):\n",
    "        output = \"\"\n",
    "        for char_ind in range(200):\n",
    "            # Constraint: 1 <= strs.length <= 200\n",
    "            for str_ind in range(len(strs)):\n",
    "                if str_ind == 0:\n",
    "                    # The first char of the first str in strs will be the candidate\n",
    "                    try: \n",
    "                        candidate = strs[str_ind][char_ind]\n",
    "                    except IndexError:\n",
    "                        # End of first str\n",
    "                        return output\n",
    "                try:                 \n",
    "                    if strs[str_ind][char_ind] != candidate:\n",
    "                        return output\n",
    "                except IndexError:\n",
    "                    # End of other str\n",
    "                    return output\n",
    "            output += candidate\n",
    "        return output"
   ]
  },
  {
   "cell_type": "code",
   "execution_count": 22,
   "id": "438a9607",
   "metadata": {},
   "outputs": [
    {
     "data": {
      "text/plain": [
       "'fl'"
      ]
     },
     "execution_count": 22,
     "metadata": {},
     "output_type": "execute_result"
    }
   ],
   "source": [
    "strs = [\"flower\",\"flow\",\"flight\"]\n",
    "Solution.longestCommonPrefix(Solution, strs)"
   ]
  },
  {
   "cell_type": "markdown",
   "id": "5a90d994",
   "metadata": {},
   "source": [
    "Runtime: 39 ms, faster than 65.64% of Python3 online submissions for Longest Common Prefix.\n",
    "\n",
    "Memory Usage: 14 MB, less than 86.73% of Python3 online submissions for Longest Common Prefix."
   ]
  },
  {
   "cell_type": "code",
   "execution_count": null,
   "id": "fb9eba97",
   "metadata": {},
   "outputs": [],
   "source": []
  }
 ],
 "metadata": {
  "kernelspec": {
   "display_name": "Python 3 (ipykernel)",
   "language": "python",
   "name": "python3"
  },
  "language_info": {
   "codemirror_mode": {
    "name": "ipython",
    "version": 3
   },
   "file_extension": ".py",
   "mimetype": "text/x-python",
   "name": "python",
   "nbconvert_exporter": "python",
   "pygments_lexer": "ipython3",
   "version": "3.8.12"
  }
 },
 "nbformat": 4,
 "nbformat_minor": 5
}
