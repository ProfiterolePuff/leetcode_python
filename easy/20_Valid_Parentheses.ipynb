{
 "cells": [
  {
   "cell_type": "markdown",
   "id": "1a435bf9",
   "metadata": {},
   "source": [
    "# 20. Valid Parentheses\n",
    "\n",
    "URL: https://leetcode.com/problems/valid-parentheses/\n",
    "\n",
    "Given a string s containing just the characters '(', ')', '{', '}', '[' and ']', determine if the input string is valid.\n",
    "\n",
    "An input string is valid if:\n",
    "\n",
    "- Open brackets must be closed by the same type of brackets.\n",
    "- Open brackets must be closed in the correct order.\n",
    "\n",
    "Example 1:\n",
    "<br>\n",
    "Input: s = \"()\"\n",
    "<br>\n",
    "Output: true\n",
    "\n",
    "Example 2:\n",
    "<br>\n",
    "Input: s = \"()[]{}\"\n",
    "<br>\n",
    "Output: true\n",
    "\n",
    "Example 3:\n",
    "<br>\n",
    "Input: s = \"(]\"\n",
    "<br>\n",
    "Output: false"
   ]
  },
  {
   "cell_type": "raw",
   "id": "9c1f288f",
   "metadata": {},
   "source": [
    "class Solution:\n",
    "    def isValid(self, s: str) -> bool:\n",
    "\n",
    "pop_tuple = (\")\", \"}\", \"]\")"
   ]
  },
  {
   "cell_type": "markdown",
   "id": "72c3dadf",
   "metadata": {},
   "source": [
    "Constraints:\n",
    "\n",
    "- $ 1 <= s.length <= 10^4 $\n",
    "- s consists of parentheses only '()[]{}'"
   ]
  },
  {
   "cell_type": "code",
   "execution_count": 1,
   "id": "02176757",
   "metadata": {},
   "outputs": [],
   "source": [
    "class Solution:\n",
    "    def isValid(self, s):\n",
    "        stack = []\n",
    "        app_tuple = (\"(\", \"{\", \"[\")\n",
    "        pop_dict = {\n",
    "            \")\": \"(\",\n",
    "            \"}\": \"{\",\n",
    "            \"]\": \"[\",\n",
    "        }\n",
    "        for char in s:\n",
    "            if char in app_tuple:\n",
    "                stack.append(char)\n",
    "            else:\n",
    "                # Constraint: s consists of parentheses only '()[]{}'\n",
    "                try:\n",
    "                    if stack.pop() != pop_dict[char]:\n",
    "                        return False\n",
    "                except IndexError:\n",
    "                    return False\n",
    "        if stack == []:\n",
    "            return True\n",
    "        else:\n",
    "            return False\n",
    "        "
   ]
  },
  {
   "cell_type": "code",
   "execution_count": 2,
   "id": "863b2752",
   "metadata": {},
   "outputs": [
    {
     "data": {
      "text/plain": [
       "True"
      ]
     },
     "execution_count": 2,
     "metadata": {},
     "output_type": "execute_result"
    }
   ],
   "source": [
    "s = \"[]\"\n",
    "Solution.isValid(Solution, s)"
   ]
  },
  {
   "cell_type": "markdown",
   "id": "0fb5eb1a",
   "metadata": {},
   "source": [
    "Runtime: 32 ms, faster than 83.04% of Python3 online submissions for Valid Parentheses.\n",
    "\n",
    "Memory Usage: 13.9 MB, less than 78.90% of Python3 online submissions for Valid Parentheses."
   ]
  },
  {
   "cell_type": "code",
   "execution_count": null,
   "id": "ede10dfc",
   "metadata": {},
   "outputs": [],
   "source": []
  }
 ],
 "metadata": {
  "kernelspec": {
   "display_name": "Python 3 (ipykernel)",
   "language": "python",
   "name": "python3"
  },
  "language_info": {
   "codemirror_mode": {
    "name": "ipython",
    "version": 3
   },
   "file_extension": ".py",
   "mimetype": "text/x-python",
   "name": "python",
   "nbconvert_exporter": "python",
   "pygments_lexer": "ipython3",
   "version": "3.8.12"
  }
 },
 "nbformat": 4,
 "nbformat_minor": 5
}
