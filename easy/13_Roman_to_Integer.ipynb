{
 "cells": [
  {
   "cell_type": "markdown",
   "id": "b124d0e1-e0c6-4315-aae5-5577a14adcf0",
   "metadata": {},
   "source": [
    "# 13. Roman to Integer\n",
    "\n",
    "URL: https://leetcode.com/problems/roman-to-integer/\n",
    "\n",
    "Roman numerals are represented by seven different symbols: I, V, X, L, C, D and M.\n",
    "\n",
    "| Symbol | Value |\n",
    "| --- | --- |\n",
    "| I | 1 |\n",
    "| V | 5 |\n",
    "| X | 10 |\n",
    "|L|50|\n",
    "|C|100|\n",
    "|D|500|\n",
    "|M|1000|\n",
    "\n",
    "For example, 2 is written as II in Roman numeral, just two one\"s added together. 12 is written as XII, which is simply X + II. The number 27 is written as XXVII, which is XX + V + II.\n",
    "\n",
    "Roman numerals are usually written largest to smallest from left to right. However, the numeral for four is not IIII. Instead, the number four is written as IV. Because the one is before the five we subtract it making four. The same principle applies to the number nine, which is written as IX. There are six instances where subtraction is used:\n",
    "\n",
    "- I can be placed before V (5) and X (10) to make 4 and 9. \n",
    "- X can be placed before L (50) and C (100) to make 40 and 90. \n",
    "- C can be placed before D (500) and M (1000) to make 400 and 900.\n",
    "    \n",
    "Given a roman numeral, convert it to an integer.\n",
    "\n",
    "Example 1:\n",
    "<br>\n",
    "Input: s = \"III\"\n",
    "<br>\n",
    "Output: 3\n",
    "<br>\n",
    "Explanation: III = 3.\n",
    "\n",
    "Example 2:\n",
    "<br>\n",
    "Input: s = \"LVIII\"\n",
    "<br>\n",
    "Output: 58\n",
    "<br>\n",
    "Explanation: L = 50, V= 5, III = 3.\n",
    "\n",
    "Example 3:\n",
    "<br>\n",
    "Input: s = \"MCMXCIV\"\n",
    "<br>\n",
    "Output: 1994\n",
    "<br>\n",
    "Explanation: M = 1000, CM = 900, XC = 90 and IV = 4"
   ]
  },
  {
   "cell_type": "raw",
   "id": "958eee92-e69e-4051-8360-cc1ccec4c719",
   "metadata": {},
   "source": [
    "class Solution:\n",
    "    def romanToInt(self, s: str)  -> int:\n",
    "    \n",
    "value_tuple = (1, 5, 10, 50, 100, 500, 1000)\n",
    "symbol_tuple = (\"I\", \"V\", \"X\", \"L\", \"C\", \"D\", \"M\")"
   ]
  },
  {
   "cell_type": "markdown",
   "id": "52cefbf7-658b-4230-9b19-8cbcb6d7f662",
   "metadata": {},
   "source": [
    "Constraints:\n",
    "\n",
    "- 1 <= s.length <= 15\n",
    "- s contains only the characters ('I', 'V', 'X', 'L', 'C', 'D', 'M').\n",
    "- It is guaranteed that s is a valid roman numeral in the range [1, 3999]."
   ]
  },
  {
   "cell_type": "code",
   "execution_count": 1,
   "id": "0e291b81-71ff-4171-8a2d-657d5f366cd4",
   "metadata": {},
   "outputs": [],
   "source": [
    "class Solution:\n",
    "    def romanToInt(self, s):\n",
    "        subtract_tuple = (\"I\", \"X\", \"C\")\n",
    "        symbol_value_dict = {\n",
    "            \"I\": 1,\n",
    "            \"V\": 5,\n",
    "            \"X\": 10,\n",
    "            \"L\": 50,\n",
    "            \"C\": 100,\n",
    "            \"D\": 500,\n",
    "            \"M\": 1000,\n",
    "        }\n",
    "        output = symbol_value_dict[s[0]]\n",
    "        for char_ind in range(1, len(s)):\n",
    "            curr_char = s[char_ind]\n",
    "            prev_char = s[char_ind - 1]\n",
    "            output += symbol_value_dict[curr_char]\n",
    "            if prev_char in subtract_tuple and (symbol_value_dict[curr_char] == 5 * symbol_value_dict[prev_char] or symbol_value_dict[curr_char] == 10 * symbol_value_dict[prev_char]):\n",
    "                output = output - 2 * symbol_value_dict[prev_char]\n",
    "        return output"
   ]
  },
  {
   "cell_type": "code",
   "execution_count": 2,
   "id": "54a8badd-f03b-4770-8609-a780c5bf4f0b",
   "metadata": {},
   "outputs": [
    {
     "data": {
      "text/plain": [
       "1994"
      ]
     },
     "execution_count": 2,
     "metadata": {},
     "output_type": "execute_result"
    }
   ],
   "source": [
    "s = \"MCMXCIV\"\n",
    "Solution.romanToInt(Solution, s)"
   ]
  },
  {
   "cell_type": "code",
   "execution_count": null,
   "id": "f420bdca-7b4f-46c2-8785-2b48f1ce6664",
   "metadata": {},
   "outputs": [],
   "source": []
  }
 ],
 "metadata": {
  "kernelspec": {
   "display_name": "Python 3 (ipykernel)",
   "language": "python",
   "name": "python3"
  },
  "language_info": {
   "codemirror_mode": {
    "name": "ipython",
    "version": 3
   },
   "file_extension": ".py",
   "mimetype": "text/x-python",
   "name": "python",
   "nbconvert_exporter": "python",
   "pygments_lexer": "ipython3",
   "version": "3.8.12"
  }
 },
 "nbformat": 4,
 "nbformat_minor": 5
}
