{
 "cells": [
  {
   "cell_type": "markdown",
   "id": "28eea497-8f18-44c9-88d3-344cc7b86450",
   "metadata": {},
   "source": [
    "# 27. Remove Element\n",
    "\n",
    "URL: https://leetcode.com/problems/remove-element/\n",
    "\n",
    "Given an integer array nums and an integer val, remove all occurrences of val in nums in-place. The relative order of the elements may be changed.\n",
    "\n",
    "Since it is impossible to change the length of the array in some languages, you must instead have the result be placed in the first part of the array nums. More formally, if there are k elements after removing the duplicates, then the first k elements of nums should hold the final result. It does not matter what you leave beyond the first k elements.\n",
    "\n",
    "Return k after placing the final result in the first k slots of nums.\n",
    "\n",
    "Do not allocate extra space for another array. You must do this by modifying the input array in-place with O(1) extra memory.\n",
    "\n",
    "Example 1:\n",
    "<br>\n",
    "Input: nums = [3,2,2,3], val = 3\n",
    "<br>\n",
    "Output: 2, nums = [2,2,_,_]\n",
    "<br>\n",
    "Explanation: Your function should return k = 2, with the first two elements of nums being 2.\n",
    "It does not matter what you leave beyond the returned k (hence they are underscores).\n",
    "\n",
    "Example 2:\n",
    "<br>\n",
    "Input: nums = [0,1,2,2,3,0,4,2], val = 2\n",
    "<br>\n",
    "Output: 5, nums = [0,1,4,0,3,_,_,_]\n",
    "<br>\n",
    "Explanation: Your function should return k = 5, with the first five elements of nums containing 0, 0, 1, 3, and 4.\n",
    "Note that the five elements can be returned in any order.\n",
    "It does not matter what you leave beyond the returned k (hence they are underscores)."
   ]
  },
  {
   "cell_type": "markdown",
   "id": "29defdd8-c990-4760-beac-44e446aee289",
   "metadata": {},
   "source": [
    "Custom Judge:\n",
    "\n",
    "The judge will test your solution with the following code:"
   ]
  },
  {
   "cell_type": "raw",
   "id": "ab08b0be-7869-419f-af9d-47e0fc1db867",
   "metadata": {},
   "source": [
    "int[] nums = [...]; // Input array\n",
    "int val = ...; // Value to remove\n",
    "int[] expectedNums = [...]; // The expected answer with correct length.\n",
    "                            // It is sorted with no values equaling val.\n",
    "\n",
    "int k = removeElement(nums, val); // Calls your implementation\n",
    "\n",
    "assert k == expectedNums.length;\n",
    "sort(nums, 0, k); // Sort the first k elements of nums\n",
    "for (int i = 0; i < actualLength; i++) {\n",
    "    assert nums[i] == expectedNums[i];\n",
    "}"
   ]
  },
  {
   "cell_type": "markdown",
   "id": "dce24edd-c30b-41df-96d0-9b9edc96c479",
   "metadata": {},
   "source": [
    "If all assertions pass, then your solution will be accepted."
   ]
  },
  {
   "cell_type": "raw",
   "id": "aca67473-e000-4880-9e8f-df247e7a0e6f",
   "metadata": {},
   "source": [
    "class Solution:\n",
    "    def removeElement(self, nums: List[int], val: int) -> int:\n",
    "        "
   ]
  },
  {
   "cell_type": "markdown",
   "id": "5ea059a9-3d5b-4729-b4d3-0c0b844bf18a",
   "metadata": {},
   "source": [
    "Constraints:\n",
    "\n",
    "- 0 <= nums.length <= 100\n",
    "- 0 <= nums[i] <= 50\n",
    "- 0 <= val <= 100"
   ]
  },
  {
   "cell_type": "code",
   "execution_count": 1,
   "id": "87742712-2c79-459d-8471-2bd8ad2bc17e",
   "metadata": {},
   "outputs": [],
   "source": [
    "class Solution:\n",
    "    def removeElement(self, nums, val):\n",
    "        k = len(nums)\n",
    "        num_ind = 0\n",
    "        while num_ind < k:\n",
    "            if nums[num_ind] == val:\n",
    "                nums.pop(num_ind)\n",
    "                k -= 1\n",
    "            else:\n",
    "                num_ind += 1\n",
    "        return k"
   ]
  },
  {
   "cell_type": "code",
   "execution_count": 2,
   "id": "fb66f6b2-3c37-4434-ac78-6bb07f8b48a4",
   "metadata": {},
   "outputs": [
    {
     "name": "stdout",
     "output_type": "stream",
     "text": [
      "2\n",
      "[2, 2]\n"
     ]
    }
   ],
   "source": [
    "nums = [3,2,2,3]\n",
    "val = 3\n",
    "k = output = Solution.removeElement(Solution, nums, val)\n",
    "print(k)\n",
    "print(nums)"
   ]
  },
  {
   "cell_type": "markdown",
   "id": "8bb31552-64b9-4d28-b0ad-7ce5a670627a",
   "metadata": {},
   "source": [
    "Runtime: 42 ms, faster than 54.21% of Python3 online submissions for Remove Element.\n",
    "\n",
    "Memory Usage: 13.9 MB, less than 90.65% of Python3 online submissions for Remove Element."
   ]
  },
  {
   "cell_type": "code",
   "execution_count": null,
   "id": "d7b7eec7-66bf-4818-9cc4-48b61b74a5fa",
   "metadata": {},
   "outputs": [],
   "source": []
  }
 ],
 "metadata": {
  "kernelspec": {
   "display_name": "Python 3 (ipykernel)",
   "language": "python",
   "name": "python3"
  },
  "language_info": {
   "codemirror_mode": {
    "name": "ipython",
    "version": 3
   },
   "file_extension": ".py",
   "mimetype": "text/x-python",
   "name": "python",
   "nbconvert_exporter": "python",
   "pygments_lexer": "ipython3",
   "version": "3.8.12"
  }
 },
 "nbformat": 4,
 "nbformat_minor": 5
}
