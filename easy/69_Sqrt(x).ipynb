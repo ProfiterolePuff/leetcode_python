{
 "cells": [
  {
   "cell_type": "markdown",
   "id": "05c42a98",
   "metadata": {},
   "source": [
    "# 69. Sqrt(x)\n",
    "\n",
    "URL: https://leetcode.com/problems/sqrtx/\n",
    "\n",
    "Given a non-negative integer x, return the square root of x rounded down to the nearest integer. The returned integer should be non-negative as well.\n",
    "\n",
    "You must not use any built-in exponent function or operator.\n",
    "\n",
    "For example, do not use pow(x, 0.5) in c++ or x ** 0.5 in python.\n",
    "\n",
    "Example 1:\n",
    "<br>\n",
    "Input: x = 4\n",
    "<br>\n",
    "Output: 2\n",
    "<br>\n",
    "Explanation: The square root of 4 is 2, so we return 2.\n",
    "\n",
    "Example 2:\n",
    "<br>\n",
    "Input: x = 8\n",
    "<br>\n",
    "Output: 2\n",
    "<br>\n",
    "Explanation: The square root of 8 is 2.82842..., and since we round it down to the nearest integer, 2 is returned."
   ]
  },
  {
   "cell_type": "raw",
   "id": "b31e187e-77bf-4ed9-9048-73419232b5d0",
   "metadata": {},
   "source": [
    "class Solution:\n",
    "    def mySqrt(self, x: int) -> int:"
   ]
  },
  {
   "cell_type": "markdown",
   "id": "76150690-9e93-4180-87a2-cf204224c5d3",
   "metadata": {},
   "source": [
    "Constraints:\n",
    "\n",
    "- $0 <= x <= 2^{31} - 1$"
   ]
  },
  {
   "cell_type": "code",
   "execution_count": 1,
   "id": "525fb407",
   "metadata": {},
   "outputs": [],
   "source": [
    "class Solution:\n",
    "    def mySqrt(self, x):\n",
    "        # binary search\n",
    "        \n",
    "        if x == 0:\n",
    "            return 0\n",
    "        elif x == 1:\n",
    "            return 1\n",
    "\n",
    "        \n",
    "        \n",
    "        lower = 0 \n",
    "        upper = x\n",
    "        last_mid = -1\n",
    "        \n",
    "        while lower <= upper:\n",
    "\n",
    "            mid = lower / 2 + upper / 2\n",
    "            \n",
    "            # if the current mid is almost identical to last mid, return mid\n",
    "            if int(mid) == int(last_mid):\n",
    "                if mid - last_mid < 1 / x and mid - last_mid > 0:\n",
    "                    return int(mid)\n",
    "                elif last_mid - mid < 1 / x and last_mid - mid > 0:\n",
    "                    return int(mid)\n",
    "            \n",
    "            if x / mid < mid:\n",
    "                upper = mid\n",
    "                last_mid = mid\n",
    "            elif x / mid > mid:\n",
    "                lower = mid\n",
    "                last_mid = mid\n",
    "            else:\n",
    "                # if x == mid < mid\n",
    "                return int(mid)"
   ]
  },
  {
   "cell_type": "code",
   "execution_count": 2,
   "id": "504468f6",
   "metadata": {},
   "outputs": [
    {
     "data": {
      "text/plain": [
       "(5, 5)"
      ]
     },
     "execution_count": 2,
     "metadata": {},
     "output_type": "execute_result"
    }
   ],
   "source": [
    "x = 32\n",
    "Solution.mySqrt(Solution, x), int(x ** 0.5)"
   ]
  },
  {
   "cell_type": "code",
   "execution_count": 3,
   "id": "99b35d66",
   "metadata": {},
   "outputs": [
    {
     "data": {
      "text/plain": [
       "(46340, 46340)"
      ]
     },
     "execution_count": 3,
     "metadata": {},
     "output_type": "execute_result"
    }
   ],
   "source": [
    "x = 2147395600\n",
    "Solution.mySqrt(Solution, x), int(x ** 0.5)"
   ]
  },
  {
   "cell_type": "code",
   "execution_count": null,
   "id": "d9d846c7",
   "metadata": {},
   "outputs": [],
   "source": []
  }
 ],
 "metadata": {
  "kernelspec": {
   "display_name": "Python 3 (ipykernel)",
   "language": "python",
   "name": "python3"
  },
  "language_info": {
   "codemirror_mode": {
    "name": "ipython",
    "version": 3
   },
   "file_extension": ".py",
   "mimetype": "text/x-python",
   "name": "python",
   "nbconvert_exporter": "python",
   "pygments_lexer": "ipython3",
   "version": "3.9.12"
  }
 },
 "nbformat": 4,
 "nbformat_minor": 5
}
