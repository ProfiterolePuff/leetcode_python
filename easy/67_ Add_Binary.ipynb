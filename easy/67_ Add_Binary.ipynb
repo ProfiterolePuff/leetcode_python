{
 "cells": [
  {
   "cell_type": "markdown",
   "id": "05c42a98",
   "metadata": {},
   "source": [
    "# 67. Add Binary\n",
    "\n",
    "URL: https://leetcode.com/problems/add-binary/\n",
    "\n",
    "Given two binary strings a and b, return their sum as a binary string.\n",
    "\n",
    "Example 1:\n",
    "<br>\n",
    "Input: a = \"11\", b = \"1\"\n",
    "<br>\n",
    "Output: \"100\"\n",
    "\n",
    "Example 2:\n",
    "<br>\n",
    "Input: a = \"1010\", b = \"1011\"\n",
    "<br>\n",
    "Output: \"10101\""
   ]
  },
  {
   "cell_type": "raw",
   "id": "b31e187e-77bf-4ed9-9048-73419232b5d0",
   "metadata": {},
   "source": [
    "class Solution:\n",
    "    def addBinary(self, a: str, b: str) -> str:"
   ]
  },
  {
   "cell_type": "markdown",
   "id": "76150690-9e93-4180-87a2-cf204224c5d3",
   "metadata": {},
   "source": [
    "Constraints:\n",
    "\n",
    "- $1 <= a.length, b.length <= 10^4$\n",
    "- a and b consist only of '0' or '1' characters.\n",
    "- Each string does not contain leading zeros except for the zero itself."
   ]
  },
  {
   "cell_type": "code",
   "execution_count": 1,
   "id": "525fb407",
   "metadata": {},
   "outputs": [],
   "source": [
    "class Solution:\n",
    "    def addBinary(self, a, b):\n",
    "        result = \"\"\n",
    "        cal_dict = {\n",
    "            \"000\" : [\"0\",\"0\"],\n",
    "            \"001\" : [\"1\",\"0\"],\n",
    "            \"010\" : [\"1\",\"0\"],\n",
    "            \"011\" : [\"0\",\"1\"],\n",
    "            \"100\" : [\"1\",\"0\"],\n",
    "            \"101\" : [\"0\",\"1\"],\n",
    "            \"110\" : [\"0\",\"1\"],\n",
    "            \"111\" : [\"1\",\"1\"],\n",
    "        }    \n",
    "        carry = \"0\"\n",
    "        len_a = len(a)\n",
    "        len_b = len(b)\n",
    "        \n",
    "        for i in range(max(len_a, len_b)):\n",
    "            curr_ind = -1 - i\n",
    "\n",
    "            if i > len_a - 1:\n",
    "                a_digi = \"0\"\n",
    "                b_digi = b[curr_ind]\n",
    "            elif i > len_b - 1:\n",
    "                a_digi = a[curr_ind]\n",
    "                b_digi = \"0\"\n",
    "            else:\n",
    "                a_digi = a[curr_ind]\n",
    "                b_digi = b[curr_ind]\n",
    "                \n",
    "            res_ind, carry = cal_dict[a_digi + b_digi + carry]\n",
    "            result = res_ind + result\n",
    "            \n",
    "        if carry == \"1\":\n",
    "            result = carry + result\n",
    "            \n",
    "        return result"
   ]
  },
  {
   "cell_type": "code",
   "execution_count": 2,
   "id": "7c0d2a14-2c68-4325-96c3-d6fd97630f91",
   "metadata": {},
   "outputs": [
    {
     "data": {
      "text/plain": [
       "'10101'"
      ]
     },
     "execution_count": 2,
     "metadata": {},
     "output_type": "execute_result"
    }
   ],
   "source": [
    "Solution.addBinary(Solution, a = \"1010\", b = \"1011\")"
   ]
  }
 ],
 "metadata": {
  "kernelspec": {
   "display_name": "Python 3 (ipykernel)",
   "language": "python",
   "name": "python3"
  },
  "language_info": {
   "codemirror_mode": {
    "name": "ipython",
    "version": 3
   },
   "file_extension": ".py",
   "mimetype": "text/x-python",
   "name": "python",
   "nbconvert_exporter": "python",
   "pygments_lexer": "ipython3",
   "version": "3.9.12"
  }
 },
 "nbformat": 4,
 "nbformat_minor": 5
}
