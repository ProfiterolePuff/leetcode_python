{
 "cells": [
  {
   "cell_type": "markdown",
   "id": "05c42a98",
   "metadata": {},
   "source": [
    "# 1. Two Sum\n",
    "\n",
    "URL: https://leetcode.com/problems/two-sum/\n",
    "\n",
    "Given an array of integers nums and an integer target, return indices of the two numbers such that they add up to target.\n",
    "\n",
    "You may assume that each input would have exactly one solution, and you may not use the same element twice.\n",
    "\n",
    "You can return the answer in any order.\n",
    "\n",
    "Example 1:\n",
    "<br>\n",
    "Input: nums = [2,7,11,15], target = 9\n",
    "<br>\n",
    "Output: [0,1]\n",
    "<br>\n",
    "Explanation: Because nums[0] + nums[1] == 9, we return [0, 1].\n",
    "\n",
    "Example 2:\n",
    "<br>\n",
    "Input: nums = [3,2,4], target = 6\n",
    "<br>\n",
    "Output: [1,2]\n",
    "<br>\n",
    "\n",
    "Example 3:\n",
    "<br>\n",
    "Input: nums = [3,3], target = 6\n",
    "<br>\n",
    "Output: [0,1]"
   ]
  },
  {
   "cell_type": "markdown",
   "id": "454b105e-9014-4595-a13c-befb6a4e5a4c",
   "metadata": {},
   "source": [
    "Template"
   ]
  },
  {
   "cell_type": "raw",
   "id": "1474ecab-4f40-4f6f-a3f4-e58b93b3d660",
   "metadata": {},
   "source": [
    "# 1.\n",
    "\n",
    "URL: \n",
    "\n",
    "Example 1:\n",
    "<br>\n",
    "\n",
    "Example 2:\n",
    "<br>\n",
    "\n",
    "Example 3:\n",
    "<br>"
   ]
  },
  {
   "cell_type": "raw",
   "id": "b31e187e-77bf-4ed9-9048-73419232b5d0",
   "metadata": {},
   "source": [
    "class Solution:\n",
    "    def twoSum(self, nums: List[int], target: int) -> List[int]:"
   ]
  },
  {
   "cell_type": "markdown",
   "id": "76150690-9e93-4180-87a2-cf204224c5d3",
   "metadata": {},
   "source": [
    "Constraints:\n",
    "\n",
    "- 2 <= nums.length <= 104\n",
    "- $-10^9 <= nums[i] <= 10^9$\n",
    "- $-10^9 <= target <= 10^9$\n",
    "- Only one valid answer exists."
   ]
  },
  {
   "cell_type": "code",
   "execution_count": 1,
   "id": "525fb407",
   "metadata": {},
   "outputs": [],
   "source": [
    "class Solution:\n",
    "    def twoSum(self, nums, target):\n",
    "        for i in range(len(nums)):\n",
    "            element1 = nums[i]\n",
    "            for j in range(i + 1, len(nums), 1):\n",
    "                if element1 + nums[j] == target:\n",
    "                    return [i, j]\n",
    "                    break"
   ]
  },
  {
   "cell_type": "code",
   "execution_count": 2,
   "id": "7c0d2a14-2c68-4325-96c3-d6fd97630f91",
   "metadata": {},
   "outputs": [
    {
     "data": {
      "text/plain": [
       "[1, 2]"
      ]
     },
     "execution_count": 2,
     "metadata": {},
     "output_type": "execute_result"
    }
   ],
   "source": [
    "Solution.twoSum(Solution, nums = [3,2,4], target = 6)"
   ]
  },
  {
   "cell_type": "code",
   "execution_count": null,
   "id": "34a2401f-0312-4af7-84eb-5e721b2625fe",
   "metadata": {},
   "outputs": [],
   "source": []
  }
 ],
 "metadata": {
  "kernelspec": {
   "display_name": "Python 3 (ipykernel)",
   "language": "python",
   "name": "python3"
  },
  "language_info": {
   "codemirror_mode": {
    "name": "ipython",
    "version": 3
   },
   "file_extension": ".py",
   "mimetype": "text/x-python",
   "name": "python",
   "nbconvert_exporter": "python",
   "pygments_lexer": "ipython3",
   "version": "3.8.12"
  }
 },
 "nbformat": 4,
 "nbformat_minor": 5
}
