{
 "cells": [
  {
   "cell_type": "markdown",
   "id": "05c42a98",
   "metadata": {},
   "source": [
    "# 21. Merge Two Sorted Lists\n",
    "\n",
    "URL: https://leetcode.com/problems/merge-two-sorted-lists/\n",
    "\n",
    "You are given the heads of two sorted linked lists list1 and list2.\n",
    "\n",
    "Merge the two lists in a one sorted list. The list should be made by splicing together the nodes of the first two lists.\n",
    "\n",
    "Return the head of the merged linked list.\n",
    "\n",
    "Example 1:\n",
    "<br>\n",
    "Input: list1 = [1,2,4], list2 = [1,3,4]\n",
    "<br>\n",
    "Output: [1,1,2,3,4,4]\n",
    "\n",
    "Example 2:\n",
    "<br>\n",
    "Input: list1 = [], list2 = []\n",
    "<br>\n",
    "Output: []\n",
    "\n",
    "Example 3:\n",
    "<br>\n",
    "Input: list1 = [], list2 = [0]\n",
    "<br>\n",
    "Output: [0]"
   ]
  },
  {
   "cell_type": "raw",
   "id": "b31e187e-77bf-4ed9-9048-73419232b5d0",
   "metadata": {},
   "source": [
    "# Definition for singly-linked list.\n",
    "# class ListNode:\n",
    "#     def __init__(self, val=0, next=None):\n",
    "#         self.val = val\n",
    "#         self.next = next\n",
    "class Solution:\n",
    "    def mergeTwoLists(self, list1: Optional[ListNode], list2: Optional[ListNode]) -> Optional[ListNode]:\n",
    "        "
   ]
  },
  {
   "cell_type": "markdown",
   "id": "76150690-9e93-4180-87a2-cf204224c5d3",
   "metadata": {},
   "source": [
    "Constraints:\n",
    "\n",
    "- The number of nodes in both lists is in the range [0, 50].\n",
    "- -100 <= Node.val <= 100\n",
    "- Both list1 and list2 are sorted in non-decreasing order."
   ]
  },
  {
   "cell_type": "raw",
   "id": "cdc38578",
   "metadata": {},
   "source": [
    "# This Approach uses python list instead of singly-linked list\n",
    "class Solution:\n",
    "    def mergeTwoLists(self, list1, list2):\n",
    "        pointer_1, pointer_2 = 0, 0\n",
    "        result = []\n",
    "        while True:\n",
    "            if pointer_1 == len(list1) and pointer_2 == len(list2):\n",
    "                return result\n",
    "            elif pointer_1 == len(list1):\n",
    "                result = result + list2[pointer_2:]\n",
    "                return result\n",
    "            elif pointer_2 == len(list2):\n",
    "                result = result + list1[pointer_1:]\n",
    "                return result\n",
    "            if list1[pointer_1] > list2[pointer_2]:\n",
    "                result.append(list2[pointer_2])\n",
    "                pointer_2 += 1\n",
    "            else:\n",
    "                result.append(list1[pointer_1])\n",
    "                pointer_1 += 1\n",
    "                \n",
    "Solution.mergeTwoLists(Solution, list1 = [], list2 = [])\n",
    "Solution.mergeTwoLists(Solution, list1 = [1,2,4], list2 = [1,3,4])        "
   ]
  },
  {
   "cell_type": "raw",
   "id": "bd674ff8",
   "metadata": {},
   "source": [
    "# Check correctness for python list approach.\n",
    "list1 = [1,2,4]\n",
    "\n",
    "\n",
    "Solution.mergeTwoLists(Solution, list1 = [1,2,4], list2 = [1,3,4])"
   ]
  },
  {
   "cell_type": "raw",
   "id": "2c327255",
   "metadata": {},
   "source": [
    "class ListNode:\n",
    "    def __init__(self, val=0, next=None):\n",
    "        self.val = val\n",
    "        self.next = next\n"
   ]
  },
  {
   "cell_type": "code",
   "execution_count": 1,
   "id": "e028f642",
   "metadata": {},
   "outputs": [],
   "source": [
    "class ListNode:\n",
    "    def __init__(self, val=0, next=None):\n",
    "        self.val = val\n",
    "        self.next = next\n",
    "\n",
    "def construct_single_linked_list(py_list):\n",
    "    \"\"\"Get the single linked list with python list\"\"\"\n",
    "    \n",
    "    result_head = ListNode(py_list[0])\n",
    "    \n",
    "    previous_node = result_head\n",
    "    \n",
    "    for element in py_list[1:]:\n",
    "        current_node = ListNode(element)\n",
    "        previous_node.next = current_node\n",
    "        previous_node = current_node\n",
    "        \n",
    "    return result_head\n",
    "\n",
    "def print_all_elements_in_sl(sl):\n",
    "    while sl.next != None:\n",
    "        print(sl.val, end =\",\")\n",
    "        sl = sl.next\n",
    "    print(sl.val)"
   ]
  },
  {
   "cell_type": "code",
   "execution_count": 2,
   "id": "dd678a7c",
   "metadata": {},
   "outputs": [
    {
     "name": "stdout",
     "output_type": "stream",
     "text": [
      "1,2,4,5\n",
      "\n",
      "1,3,4\n"
     ]
    }
   ],
   "source": [
    "# Create singly list object\n",
    "\n",
    "list1 = [1,2,4,5] \n",
    "list2 = [1,3,4]\n",
    "\n",
    "sl1_head = construct_single_linked_list(list1)\n",
    "sl2_head = construct_single_linked_list(list2)\n",
    "\n",
    "print_all_elements_in_sl(sl1_head)\n",
    "print()\n",
    "print_all_elements_in_sl(sl2_head)"
   ]
  },
  {
   "cell_type": "code",
   "execution_count": 3,
   "id": "690da8a2",
   "metadata": {},
   "outputs": [],
   "source": [
    "# This Approach uses singly-linked list.\n",
    "\n",
    "class Solution:\n",
    "    def mergeTwoLists(self, list1, list2):\n",
    "        #if list1.val == None:\n",
    "        if list1 == None:\n",
    "            # handle empty list cases\n",
    "            return list2\n",
    "        #elif list2.val == None:\n",
    "        elif list2 == None:\n",
    "            return list1\n",
    "        \n",
    "        current_node_1 = list1\n",
    "        current_node_2 = list2\n",
    "            \n",
    "        if list1.val > list2.val:\n",
    "            # initial the first node\n",
    "            result_head = ListNode(list2.val)\n",
    "            current_node_2 = current_node_2.next\n",
    "        else: \n",
    "            result_head = ListNode(list1.val)\n",
    "            current_node_1 = current_node_1.next\n",
    "        \n",
    "        current_result_node = result_head\n",
    "            \n",
    "        while current_node_1 != None and current_node_2 != None:\n",
    "            if current_node_1.val > current_node_2.val:\n",
    "                # check between the values of two nodes\n",
    "                # update the currently active node for list1 and list2 accordingly\n",
    "                # save result\n",
    "                current_result_node.next = ListNode(current_node_2.val)\n",
    "                current_node_2 = current_node_2.next\n",
    "            else:\n",
    "                current_result_node.next = ListNode(current_node_1.val)\n",
    "                current_node_1 = current_node_1.next\n",
    "            current_result_node = current_result_node.next\n",
    "            \n",
    "        if current_node_1 == None:\n",
    "            # appeend remaining elements from list2 by changing the pointer\n",
    "            current_result_node.next = current_node_2\n",
    "        elif current_node_2 == None:\n",
    "            # appeend remaining elements from list1 by changing the pointer\n",
    "            current_result_node.next = current_node_1\n",
    "  \n",
    "\n",
    "        return result_head\n"
   ]
  },
  {
   "cell_type": "code",
   "execution_count": 4,
   "id": "2be0f440",
   "metadata": {},
   "outputs": [
    {
     "name": "stdout",
     "output_type": "stream",
     "text": [
      "1,1,2,3,4,4,5\n"
     ]
    }
   ],
   "source": [
    "r = Solution.mergeTwoLists(Solution, list1 = sl1_head, list2 = sl2_head)\n",
    "\n",
    "print_all_elements_in_sl(r)"
   ]
  },
  {
   "cell_type": "code",
   "execution_count": 5,
   "id": "2c113e78-9ffa-4eb5-8145-183be20fb931",
   "metadata": {},
   "outputs": [
    {
     "name": "stdout",
     "output_type": "stream",
     "text": [
      "1,3,4\n"
     ]
    }
   ],
   "source": [
    "print_all_elements_in_sl(Solution.mergeTwoLists(Solution, list1 = None, list2 = sl2_head))"
   ]
  },
  {
   "cell_type": "code",
   "execution_count": null,
   "id": "be95884b-3ef4-4a51-ad87-47306510525e",
   "metadata": {},
   "outputs": [],
   "source": []
  }
 ],
 "metadata": {
  "kernelspec": {
   "display_name": "Python 3 (ipykernel)",
   "language": "python",
   "name": "python3"
  },
  "language_info": {
   "codemirror_mode": {
    "name": "ipython",
    "version": 3
   },
   "file_extension": ".py",
   "mimetype": "text/x-python",
   "name": "python",
   "nbconvert_exporter": "python",
   "pygments_lexer": "ipython3",
   "version": "3.9.12"
  }
 },
 "nbformat": 4,
 "nbformat_minor": 5
}
