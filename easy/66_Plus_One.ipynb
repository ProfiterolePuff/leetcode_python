{
 "cells": [
  {
   "cell_type": "markdown",
   "id": "05c42a98",
   "metadata": {},
   "source": [
    "# 66. Plus One\n",
    "\n",
    "URL: https://leetcode.com/problems/plus-one/\n",
    "\n",
    "You are given a large integer represented as an integer array digits, where each digits[i] is the $i^{th}$ digit of the integer. The digits are ordered from most significant to least significant in left-to-right order. The large integer does not contain any leading 0's.\n",
    "\n",
    "Increment the large integer by one and return the resulting array of digits.\n",
    "\n",
    "Example 1:\n",
    "<br>\n",
    "Input: digits = [1,2,3]\n",
    "<br>\n",
    "Output: [1,2,4]\n",
    "<br>\n",
    "Explanation: The array represents the integer 123.\n",
    "Incrementing by one gives 123 + 1 = 124.\n",
    "Thus, the result should be [1,2,4].\n",
    "\n",
    "Example 2:\n",
    "<br>\n",
    "Input: digits = [4,3,2,1]\n",
    "<br>\n",
    "Output: [4,3,2,2]\n",
    "<br>\n",
    "Explanation: The array represents the integer 4321.\n",
    "Incrementing by one gives 4321 + 1 = 4322.\n",
    "Thus, the result should be [4,3,2,2].\n",
    "\n",
    "Example 3:\n",
    "<br>\n",
    "Input: digits = [9]\n",
    "<br>\n",
    "Output: [1,0]\n",
    "<br>\n",
    "Explanation: The array represents the integer 9.\n",
    "Incrementing by one gives 9 + 1 = 10.\n",
    "Thus, the result should be [1,0]."
   ]
  },
  {
   "cell_type": "raw",
   "id": "b31e187e-77bf-4ed9-9048-73419232b5d0",
   "metadata": {},
   "source": [
    "class Solution:\n",
    "    def plusOne(self, digits: List[int]) -> List[int]:  "
   ]
  },
  {
   "cell_type": "markdown",
   "id": "76150690-9e93-4180-87a2-cf204224c5d3",
   "metadata": {},
   "source": [
    "Constraints:\n",
    "\n",
    "- 1 <= digits.length <= 100\n",
    "- 0 <= digits[i] <= 9\n",
    "- digits does not contain any leading 0's."
   ]
  },
  {
   "cell_type": "code",
   "execution_count": 1,
   "id": "525fb407",
   "metadata": {},
   "outputs": [],
   "source": [
    "class Solution:\n",
    "    def plusOne(self, digits):\n",
    "        d_index = len(digits) - 1\n",
    "        while True:\n",
    "            if digits[d_index] + 1 != 10:\n",
    "                digits[d_index] += 1\n",
    "                return digits\n",
    "            else:\n",
    "                digits[d_index] = 0\n",
    "                d_index -= 1\n",
    "            if d_index == -1:\n",
    "                digits.insert(0, 1)\n",
    "                return digits"
   ]
  },
  {
   "cell_type": "code",
   "execution_count": 2,
   "id": "2e24ec5a-b3d9-4f37-9467-47b2150121fa",
   "metadata": {},
   "outputs": [
    {
     "data": {
      "text/plain": [
       "[9, 0, 0]"
      ]
     },
     "execution_count": 2,
     "metadata": {},
     "output_type": "execute_result"
    }
   ],
   "source": [
    "Solution.plusOne(Solution, digits = [8,9,9])"
   ]
  },
  {
   "cell_type": "code",
   "execution_count": null,
   "id": "ef4c9a24-1aba-4134-af24-dacae0a78e67",
   "metadata": {},
   "outputs": [],
   "source": []
  }
 ],
 "metadata": {
  "kernelspec": {
   "display_name": "Python 3 (ipykernel)",
   "language": "python",
   "name": "python3"
  },
  "language_info": {
   "codemirror_mode": {
    "name": "ipython",
    "version": 3
   },
   "file_extension": ".py",
   "mimetype": "text/x-python",
   "name": "python",
   "nbconvert_exporter": "python",
   "pygments_lexer": "ipython3",
   "version": "3.8.12"
  }
 },
 "nbformat": 4,
 "nbformat_minor": 5
}
