{
 "cells": [
  {
   "cell_type": "markdown",
   "id": "05c42a98",
   "metadata": {},
   "source": [
    "# 58. Length of Last Word\n",
    "\n",
    "URL: https://leetcode.com/problems/length-of-last-word/\n",
    "\n",
    "Given a string s consisting of some words separated by some number of spaces, return the length of the last word in the string.\n",
    "\n",
    "A word is a maximal substring consisting of non-space characters only.\n",
    "\n",
    "Example 1:\n",
    "<br>\n",
    "Input: s = \"Hello World\"\n",
    "<br>\n",
    "Output: 5\n",
    "<br>\n",
    "Explanation: The last word is \"World\" with length 5.\n",
    "\n",
    "Example 2:\n",
    "<br>\n",
    "Input: s = \"   fly me   to   the moon  \"\n",
    "<br>\n",
    "Output: 4\n",
    "<br>\n",
    "Explanation: The last word is \"moon\" with length 4.\n",
    "\n",
    "Example 3:\n",
    "<br>\n",
    "Input: s = \"luffy is still joyboy\"\n",
    "<br>\n",
    "Output: 6\n",
    "<br>\n",
    "Explanation: The last word is \"joyboy\" with length 6."
   ]
  },
  {
   "cell_type": "raw",
   "id": "b31e187e-77bf-4ed9-9048-73419232b5d0",
   "metadata": {},
   "source": [
    "class Solution:\n",
    "    def lengthOfLastWord(self, s: str) -> int:"
   ]
  },
  {
   "cell_type": "markdown",
   "id": "76150690-9e93-4180-87a2-cf204224c5d3",
   "metadata": {},
   "source": [
    "Constraints:\n",
    "\n",
    "- $1 <= s.length <= 10^4$\n",
    "- s consists of only English letters and spaces ' '.\n",
    "- There will be at least one word in s."
   ]
  },
  {
   "cell_type": "code",
   "execution_count": 1,
   "id": "525fb407",
   "metadata": {},
   "outputs": [],
   "source": [
    "class Solution:\n",
    "    def lengthOfLastWord(self, s):\n",
    "        end_pointer, start_pointer = -1, -1\n",
    "        space_num = 0\n",
    "        if s[-1] != \" \":\n",
    "            end_pointer = len(s)\n",
    "        else:\n",
    "            space_num += 1\n",
    "            end_pointer = len(s) - 1\n",
    "        for i in range(1, len(s)):\n",
    "            current_pointer = len(s) - i - 1\n",
    "            if s[current_pointer] == \" \":\n",
    "                space_num += 1\n",
    "                if end_pointer == -1 or end_pointer == current_pointer + 1:\n",
    "                    end_pointer = current_pointer\n",
    "                elif start_pointer == -1:\n",
    "                    start_pointer = current_pointer\n",
    "                    return end_pointer - start_pointer - 1\n",
    "        return len(s) - space_num   "
   ]
  },
  {
   "cell_type": "code",
   "execution_count": 2,
   "id": "2e24ec5a-b3d9-4f37-9467-47b2150121fa",
   "metadata": {},
   "outputs": [
    {
     "data": {
      "text/plain": [
       "5"
      ]
     },
     "execution_count": 2,
     "metadata": {},
     "output_type": "execute_result"
    }
   ],
   "source": [
    "Solution.lengthOfLastWord(Solution, s = \"Hello World\")"
   ]
  },
  {
   "cell_type": "code",
   "execution_count": 3,
   "id": "7c0d2a14-2c68-4325-96c3-d6fd97630f91",
   "metadata": {},
   "outputs": [
    {
     "data": {
      "text/plain": [
       "4"
      ]
     },
     "execution_count": 3,
     "metadata": {},
     "output_type": "execute_result"
    }
   ],
   "source": [
    "Solution.lengthOfLastWord(Solution, s = \"   fly me   to   the moon  \")"
   ]
  },
  {
   "cell_type": "code",
   "execution_count": 4,
   "id": "326c7ee0-d03a-47aa-a061-55a126ab5515",
   "metadata": {},
   "outputs": [
    {
     "data": {
      "text/plain": [
       "6"
      ]
     },
     "execution_count": 4,
     "metadata": {},
     "output_type": "execute_result"
    }
   ],
   "source": [
    "Solution.lengthOfLastWord(Solution, s = \"luffy is still joyboy\")"
   ]
  },
  {
   "cell_type": "code",
   "execution_count": 5,
   "id": "19d3f3e0-a157-4155-ad13-77b0c5367a89",
   "metadata": {},
   "outputs": [
    {
     "data": {
      "text/plain": [
       "1"
      ]
     },
     "execution_count": 5,
     "metadata": {},
     "output_type": "execute_result"
    }
   ],
   "source": [
    "Solution.lengthOfLastWord(Solution, s = \"a \")"
   ]
  },
  {
   "cell_type": "code",
   "execution_count": 6,
   "id": "a4949d4c-2ee5-44dd-bbe1-9184cc48c301",
   "metadata": {},
   "outputs": [
    {
     "data": {
      "text/plain": [
       "1"
      ]
     },
     "execution_count": 6,
     "metadata": {},
     "output_type": "execute_result"
    }
   ],
   "source": [
    "Solution.lengthOfLastWord(Solution, s = \" a\")"
   ]
  },
  {
   "cell_type": "code",
   "execution_count": 7,
   "id": "f66b8eb2-d143-4660-bc40-abb02529c115",
   "metadata": {},
   "outputs": [
    {
     "data": {
      "text/plain": [
       "1"
      ]
     },
     "execution_count": 7,
     "metadata": {},
     "output_type": "execute_result"
    }
   ],
   "source": [
    "Solution.lengthOfLastWord(Solution, s = \"a\")"
   ]
  },
  {
   "cell_type": "code",
   "execution_count": null,
   "id": "ef4c9a24-1aba-4134-af24-dacae0a78e67",
   "metadata": {},
   "outputs": [],
   "source": []
  }
 ],
 "metadata": {
  "kernelspec": {
   "display_name": "Python 3 (ipykernel)",
   "language": "python",
   "name": "python3"
  },
  "language_info": {
   "codemirror_mode": {
    "name": "ipython",
    "version": 3
   },
   "file_extension": ".py",
   "mimetype": "text/x-python",
   "name": "python",
   "nbconvert_exporter": "python",
   "pygments_lexer": "ipython3",
   "version": "3.8.12"
  }
 },
 "nbformat": 4,
 "nbformat_minor": 5
}
