{
 "cells": [
  {
   "cell_type": "markdown",
   "id": "d537cae4-c3ae-46f2-a32e-7c8d5c12e844",
   "metadata": {},
   "source": [
    "# 26. Remove Duplicates from Sorted Array\n",
    "\n",
    "URL: https://leetcode.com/problems/remove-duplicates-from-sorted-array/\n",
    "\n",
    "Given an integer array nums sorted in non-decreasing order, remove the duplicates in-place such that each unique element appears only once. The relative order of the elements should be kept the same.\n",
    "\n",
    "Since it is impossible to change the length of the array in some languages, you must instead have the result be placed in the first part of the array nums. More formally, if there are k elements after removing the duplicates, then the first k elements of nums should hold the final result. It does not matter what you leave beyond the first k elements.\n",
    "\n",
    "Return k after placing the final result in the first k slots of nums.\n",
    "\n",
    "Do not allocate extra space for another array. You must do this by modifying the input array in-place with O(1) extra memory.\n",
    "\n",
    "Example 1:\n",
    "<br>\n",
    "Input: nums = [1,1,2]\n",
    "<br>\n",
    "Output: 2, nums = [1,2,_]\n",
    "<br>\n",
    "Explanation: Your function should return k = 2, with the first two elements of nums being 1 and 2 respectively.\n",
    "It does not matter what you leave beyond the returned k (hence they are underscores).\n",
    "\n",
    "Example 2:\n",
    "<br>\n",
    "Input: nums = [0,0,1,1,1,2,2,3,3,4]\n",
    "<br>\n",
    "Output: 5, nums = [0,1,2,3,4,_,_,_,_,_]\n",
    "<br>\n",
    "Explanation: Your function should return k = 5, with the first five elements of nums being 0, 1, 2, 3, and 4 respectively.\n",
    "It does not matter what you leave beyond the returned k (hence they are underscores)."
   ]
  },
  {
   "cell_type": "markdown",
   "id": "dd6601c0-a8e0-426a-943d-d9ca9be34829",
   "metadata": {},
   "source": [
    "Custom Judge:\n",
    "\n",
    "The judge will test your solution with the following code:"
   ]
  },
  {
   "cell_type": "raw",
   "id": "ca57a56f-3165-404a-a3a3-871f6395af62",
   "metadata": {},
   "source": [
    "int[] nums = [...]; // Input array\n",
    "int[] expectedNums = [...]; // The expected answer with correct length\n",
    "\n",
    "int k = removeDuplicates(nums); // Calls your implementation\n",
    "\n",
    "assert k == expectedNums.length;\n",
    "for (int i = 0; i < k; i++) {\n",
    "    assert nums[i] == expectedNums[i];\n",
    "}"
   ]
  },
  {
   "cell_type": "markdown",
   "id": "212ab9f0-ed0f-438f-bfc0-470836f0a089",
   "metadata": {},
   "source": [
    "If all assertions pass, then your solution will be accepted."
   ]
  },
  {
   "cell_type": "markdown",
   "id": "c4bd0da3-66bb-42c6-88a9-d8e7a78bef81",
   "metadata": {},
   "source": [
    "Constraints:\n",
    "\n",
    "- $1 <= nums.length <= 3 * 10^4$\n",
    "- -100 <= nums[i] <= 100\n",
    "- nums is sorted in non-decreasing order."
   ]
  },
  {
   "cell_type": "raw",
   "id": "13838c9f-9106-416f-b460-84d90b0c8003",
   "metadata": {},
   "source": [
    "class Solution:\n",
    "    def removeDuplicates(self, nums: List[int]) -> int:\n",
    "        "
   ]
  },
  {
   "cell_type": "code",
   "execution_count": 1,
   "id": "43abe3e1-0cf5-447a-9dba-52e91192c041",
   "metadata": {},
   "outputs": [],
   "source": [
    "# Using two pointer\n",
    "class Solution:\n",
    "    def removeDuplicates(self, nums):\n",
    "        prev_num = nums[0]\n",
    "        curr_num_ind = 1\n",
    "        k = len(nums)\n",
    "        while curr_num_ind < k:\n",
    "            if nums[curr_num_ind] == prev_num:\n",
    "                nums.pop(curr_num_ind)\n",
    "                k -= 1\n",
    "            else:\n",
    "                prev_num = nums[curr_num_ind]\n",
    "                curr_num_ind += 1\n",
    "        return k"
   ]
  },
  {
   "cell_type": "code",
   "execution_count": 2,
   "id": "d0da3c9f-bb21-46d5-bdc6-e157bd9f998c",
   "metadata": {},
   "outputs": [
    {
     "name": "stdout",
     "output_type": "stream",
     "text": [
      "5\n",
      "[0, 1, 2, 3, 4]\n"
     ]
    }
   ],
   "source": [
    "nums = [0,0,1,1,1,2,2,3,3,4]\n",
    "k = Solution.removeDuplicates(Solution, nums)\n",
    "print(k)\n",
    "print(nums)"
   ]
  },
  {
   "cell_type": "raw",
   "id": "5d8f14dc-979d-47f1-8f68-e9f3b941fbd2",
   "metadata": {},
   "source": [
    "[0,0,1,1,1,2,2,3,3,4] k = 10\n",
    "\n",
    "[0,1,1,1,2,2,3,3,4] k = 9"
   ]
  },
  {
   "cell_type": "markdown",
   "id": "413f8c82-4345-42da-80ba-9a696f4209b2",
   "metadata": {},
   "source": [
    "Runtime: 145 ms, faster than 40.01% of Python3 online submissions for Remove Duplicates from Sorted Array.\n",
    "\n",
    "Memory Usage: 15.6 MB, less than 41.38% of Python3 online submissions for Remove Duplicates from Sorted Array."
   ]
  }
 ],
 "metadata": {
  "kernelspec": {
   "display_name": "Python 3 (ipykernel)",
   "language": "python",
   "name": "python3"
  },
  "language_info": {
   "codemirror_mode": {
    "name": "ipython",
    "version": 3
   },
   "file_extension": ".py",
   "mimetype": "text/x-python",
   "name": "python",
   "nbconvert_exporter": "python",
   "pygments_lexer": "ipython3",
   "version": "3.8.12"
  }
 },
 "nbformat": 4,
 "nbformat_minor": 5
}
