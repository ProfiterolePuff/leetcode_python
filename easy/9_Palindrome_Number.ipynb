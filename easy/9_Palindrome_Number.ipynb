{
 "cells": [
  {
   "cell_type": "markdown",
   "id": "a222f1e0",
   "metadata": {},
   "source": [
    "# 9. Palindrome Number\n",
    "\n",
    "URL: https://leetcode.com/problems/palindrome-number/\n",
    "\n",
    "Given an integer x, return true if x is palindrome integer.\n",
    "\n",
    "An integer is a palindrome when it reads the same backward as forward.\n",
    "\n",
    "For example, 121 is a palindrome while 123 is not.\n",
    "\n",
    "Example 1:\n",
    "<br>\n",
    "Input: x = 121\n",
    "<br>\n",
    "Output: true\n",
    "<br>\n",
    "Explanation: 121 reads as 121 from left to right and from right to left.\n",
    "\n",
    "Example 2:\n",
    "<br>\n",
    "Input: x = -121\n",
    "<br>\n",
    "Output: false\n",
    "<br>\n",
    "Explanation: From left to right, it reads -121. From right to left, it becomes 121-. Therefore it is not a palindrome.\n",
    "\n",
    "Example 3:\n",
    "<br>\n",
    "Input: x = 10\n",
    "<br>\n",
    "Output: false\n",
    "<br>\n",
    "Explanation: Reads 01 from right to left. Therefore it is not a palindrome."
   ]
  },
  {
   "cell_type": "raw",
   "id": "183babef-2d8e-46cb-aaf2-f381c2285901",
   "metadata": {},
   "source": [
    "class Solution:\n",
    "    def isPalindrome(self, x: int) -> bool:\n",
    "    "
   ]
  },
  {
   "cell_type": "markdown",
   "id": "8184a366-d5c4-4aad-ae3b-6015b034865d",
   "metadata": {},
   "source": [
    "Constraints:\n",
    "\n",
    "- $-2^{31} <= x <= 2^{31} - 1$"
   ]
  },
  {
   "cell_type": "code",
   "execution_count": 1,
   "id": "d51b44c3",
   "metadata": {},
   "outputs": [],
   "source": [
    "# Naive approach\n",
    "class Solution:\n",
    "    def isPalindrome(self, x):\n",
    "        left_half = str(x)[:len(str(x)) // 2]\n",
    "        right_half = str(x)[len(str(x)) // 2 + len(str(x)) % 2:]\n",
    "        for i in range(len(left_half)):\n",
    "            if left_half[-i-1] != right_half[i]:\n",
    "                return False\n",
    "        return True   "
   ]
  },
  {
   "cell_type": "code",
   "execution_count": 2,
   "id": "2873382a",
   "metadata": {},
   "outputs": [],
   "source": [
    "# Approach 2 String Conversion\n",
    "class Solution:\n",
    "    def isPalindrome(self, x):\n",
    "        return str(x) == str(x)[::-1]"
   ]
  },
  {
   "cell_type": "code",
   "execution_count": 3,
   "id": "a56cc339",
   "metadata": {},
   "outputs": [],
   "source": [
    "# Approach 3 No String Conversion\n",
    "import math\n",
    "\n",
    "class Solution:\n",
    "    def isPalindrome(self, x):\n",
    "        if x < 0:\n",
    "        # Handle Negative Integer\n",
    "            return False\n",
    "        elif x == 0:\n",
    "        # Handle 0 and -0\n",
    "            return True\n",
    "        digits = int(math.log10(x)) + 1\n",
    "        for i in range(digits // 2):\n",
    "            current_digit = digits - i * 2\n",
    "            left_digit = x // (10 ** (current_digit - 1))\n",
    "            right_digit = x % 10\n",
    "            if left_digit != right_digit:\n",
    "                return False\n",
    "            x = (x - left_digit * 10 ** (current_digit - 1) - right_digit) // 10 \n",
    "            # Remove left_digit and right_digit from input x\n",
    "        return True"
   ]
  },
  {
   "cell_type": "code",
   "execution_count": 4,
   "id": "b81447f6",
   "metadata": {},
   "outputs": [],
   "source": [
    "# Approach 4 No String Conversion Offical LeetCode Answer\n",
    "import math\n",
    "\n",
    "class Solution:\n",
    "    def isPalindrome(self, x):\n",
    "        if x < 0:\n",
    "        # Handle Negative Integer\n",
    "            return False\n",
    "        elif x == 0:\n",
    "        # Handle 0 and -0\n",
    "            return True\n",
    "        digits = int(math.log10(x)) + 1\n",
    "        left_half = x // (10 ** (digits // 2 + digits % 2))\n",
    "        reversed_right_half = 0\n",
    "        for i in range(digits // 2):\n",
    "            current_digit = digits - i\n",
    "            right_digit = x % 10 \n",
    "            x = (x - right_digit) // 10 \n",
    "            # Remove right_digit from input x\n",
    "            reversed_right_half += right_digit * 10**(digits//2 - i - 1)\n",
    "        if left_half == reversed_right_half:\n",
    "            return True\n",
    "        else:\n",
    "            return False"
   ]
  },
  {
   "cell_type": "code",
   "execution_count": 5,
   "id": "90626356",
   "metadata": {},
   "outputs": [
    {
     "data": {
      "text/plain": [
       "True"
      ]
     },
     "execution_count": 5,
     "metadata": {},
     "output_type": "execute_result"
    }
   ],
   "source": [
    "Solution.isPalindrome(Solution, 12321)"
   ]
  },
  {
   "cell_type": "code",
   "execution_count": null,
   "id": "67c6c22a",
   "metadata": {},
   "outputs": [],
   "source": []
  }
 ],
 "metadata": {
  "kernelspec": {
   "display_name": "Python 3 (ipykernel)",
   "language": "python",
   "name": "python3"
  },
  "language_info": {
   "codemirror_mode": {
    "name": "ipython",
    "version": 3
   },
   "file_extension": ".py",
   "mimetype": "text/x-python",
   "name": "python",
   "nbconvert_exporter": "python",
   "pygments_lexer": "ipython3",
   "version": "3.8.12"
  }
 },
 "nbformat": 4,
 "nbformat_minor": 5
}
