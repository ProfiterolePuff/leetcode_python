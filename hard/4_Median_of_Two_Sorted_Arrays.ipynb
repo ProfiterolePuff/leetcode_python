{
 "cells": [
  {
   "cell_type": "markdown",
   "id": "05c42a98",
   "metadata": {},
   "source": [
    "# 4. Median of Two Sorted Arrays\n",
    "\n",
    "URL: https://leetcode.com/problems/median-of-two-sorted-arrays/\n",
    "\n",
    "Given two sorted arrays nums1 and nums2 of size m and n respectively, return the median of the two sorted arrays.\n",
    "\n",
    "The overall run time complexity should be O(log (m+n)).\n",
    "\n",
    "Example 1:\n",
    "<br>\n",
    "Input: nums1 = [1,3], nums2 = [2]\n",
    "<br>\n",
    "Output: 2.00000\n",
    "<br>\n",
    "Explanation: merged array = [1,2,3] and median is 2.\n",
    "\n",
    "Example 2:\n",
    "<br>\n",
    "Input: nums1 = [1,2], nums2 = [3,4]\n",
    "<br>\n",
    "Output: 2.50000\n",
    "<br>\n",
    "Explanation: merged array = [1,2,3,4] and median is (2 + 3) / 2 = 2.5."
   ]
  },
  {
   "cell_type": "raw",
   "id": "b31e187e-77bf-4ed9-9048-73419232b5d0",
   "metadata": {},
   "source": [
    "class Solution:\n",
    "    def findMedianSortedArrays(self, nums1: List[int], nums2: List[int]) -> float:"
   ]
  },
  {
   "cell_type": "markdown",
   "id": "76150690-9e93-4180-87a2-cf204224c5d3",
   "metadata": {},
   "source": [
    "Constraints:\n",
    "\n",
    "- nums1.length == m\n",
    "- nums2.length == n\n",
    "- 0 <= m <= 1000\n",
    "- 0 <= n <= 1000\n",
    "- 1 <= m + n <= 2000\n",
    "- $-10^6 <= nums1[i], nums2[i] <= 10^6$"
   ]
  },
  {
   "cell_type": "code",
   "execution_count": 39,
   "id": "525fb407",
   "metadata": {},
   "outputs": [],
   "source": [
    "from statistics import median\n",
    "\n",
    "class Solution:\n",
    "    def findMedianSortedArrays(self, nums1, nums2) -> float:\n",
    "        if len(nums1) == 0:\n",
    "            # handle the case that nums1 or nums2 == []\n",
    "            return median(nums2)\n",
    "        elif len(nums2) == 0:\n",
    "            return median(nums1)\n",
    "        \n",
    "        \n",
    "        current_ind, nums1_ind, nums2_ind = 0, 0, 0\n",
    "\n",
    "        \n",
    "        if (len(nums1) + len(nums2)) % 2 == 1:\n",
    "            # if m + n is odd\n",
    "            tar_ind = (len(nums1) + len(nums2))//2\n",
    "        else:\n",
    "            # if m + n is even\n",
    "            tar_ind = (len(nums1) + len(nums2))//2 - 1    \n",
    "        while nums1_ind + nums2_ind - 1!= tar_ind and nums1_ind < len(nums1) and nums2_ind < len(nums2):\n",
    "            if nums1[nums1_ind] > nums2[nums2_ind]:\n",
    "                current_val = nums2[nums2_ind]\n",
    "                nums2_ind+=1\n",
    "            else:\n",
    "                current_val = nums1[nums1_ind]\n",
    "                nums1_ind+=1\n",
    "                \n",
    "        if nums1_ind + nums2_ind - 1!= tar_ind:\n",
    "            \n",
    "            if nums1_ind == len(nums1):\n",
    "                \n",
    "                while nums2_ind < len(nums2) and nums1_ind + nums2_ind - 1!= tar_ind:\n",
    "                    current_val = nums2[nums2_ind]\n",
    "                    nums2_ind+=1\n",
    "            else:\n",
    "                \n",
    "                while nums1_ind < len(nums1) and nums1_ind + nums2_ind - 1!= tar_ind:\n",
    "                    current_val = nums1[nums1_ind]\n",
    "                    nums1_ind+=1\n",
    "                \n",
    "        if (len(nums1) + len(nums2)) % 2 == 1:\n",
    "            # if m + n is odd\n",
    "            return current_val\n",
    "        else:\n",
    "            # if m + n is even\n",
    "            # find next value\n",
    "            if nums1_ind == len(nums1):\n",
    "                # if the remnant nums1 == []\n",
    "                current_val2 = nums2[nums2_ind]\n",
    "                #nums2_ind+=1\n",
    "            elif nums2_ind == len(nums2):\n",
    "                # if the remnant nums2 == []\n",
    "                current_val2 = nums1[nums1_ind]\n",
    "                #nums1_ind+=1\n",
    "            else:\n",
    "                # if neither the remnant nums1 or the remnant nums2 == []\n",
    "                if nums1[nums1_ind] > nums2[nums2_ind]:\n",
    "                    current_val2 = nums2[nums2_ind]\n",
    "                    #nums2_ind+=1\n",
    "                else:\n",
    "                    current_val2 = nums1[nums1_ind]\n",
    "                    #nums1_ind+=1\n",
    "                print(current_val, current_val2, nums1_ind, nums2_ind)\n",
    "            return (current_val + current_val2) / 2     "
   ]
  },
  {
   "cell_type": "code",
   "execution_count": 40,
   "id": "7c0d2a14-2c68-4325-96c3-d6fd97630f91",
   "metadata": {},
   "outputs": [
    {
     "name": "stdout",
     "output_type": "stream",
     "text": [
      "1 0 1\n"
     ]
    },
    {
     "data": {
      "text/plain": [
       "2"
      ]
     },
     "execution_count": 40,
     "metadata": {},
     "output_type": "execute_result"
    }
   ],
   "source": [
    "Solution.findMedianSortedArrays(Solution, nums1 = [1]\n",
    ", nums2 = [2,3])"
   ]
  },
  {
   "cell_type": "code",
   "execution_count": null,
   "id": "f9952421",
   "metadata": {},
   "outputs": [],
   "source": []
  }
 ],
 "metadata": {
  "kernelspec": {
   "display_name": "Python 3 (ipykernel)",
   "language": "python",
   "name": "python3"
  },
  "language_info": {
   "codemirror_mode": {
    "name": "ipython",
    "version": 3
   },
   "file_extension": ".py",
   "mimetype": "text/x-python",
   "name": "python",
   "nbconvert_exporter": "python",
   "pygments_lexer": "ipython3",
   "version": "3.9.12"
  }
 },
 "nbformat": 4,
 "nbformat_minor": 5
}
